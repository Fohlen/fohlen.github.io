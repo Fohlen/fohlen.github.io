{
 "cells": [
  {
   "cell_type": "raw",
   "id": "195c5082-fec1-44d9-b14d-352769533324",
   "metadata": {},
   "source": [
    "---\n",
    "title: \"A note on compression based classifiers\"\n",
    "author: \"Lennard Berger\"\n",
    "date: \"2023-08-11\"\n",
    "description: \"This blog post dissects the popular paper titled \\\"Low-Resource\\\" Text Classification: A Parameter-Free Classification Method with Compressors.\"\n",
    "categories: [nlp,python,compression,text-classification]\n",
    "bibliography: references.bib\n",
    "format:\n",
    "  html:\n",
    "    code-fold: true\n",
    "    toc: true\n",
    "---"
   ]
  },
  {
   "cell_type": "markdown",
   "id": "46ec420e-7e04-4e30-a09b-89c9189b966a",
   "metadata": {},
   "source": [
    "Some weeks ago I stumbled across one paper in particular titled: _\"Low-Resource” Text Classification: A Parameter-Free Classification Method with Compressors\"_ [see @jiang2023low]. This paper has been dubbed the _\"gzip paper\"_, and has been largely discussed in the NLP community because of a refreshingly simple and efficient take on text classification. In the authors words they are matching neural networks in performance:\n",
    "\n",
    "> There have been several studies in this field [@teahan2003using]; [@frank2000text], most of them based on the intuition that the minimum cross entropy between a document and a language model of a class built by a compressor indicates the class of the document. However, previous works fall short of matching the quality of neural networks.\n",
    "\n",
    "## Some theory\n",
    "\n",
    "As outlined in the quote above, one could regard text classification as a maximisation problem rather than a learning problem. This makes intuitive sense because of two reasons:\n",
    "\n",
    "1. language usually follows a Zipf distribution [see @piantadosi2014zipf]\n",
    "2. in a text classification problem different categories fall into different word registers\n",
    "\n",
    "If we account for the fact that the top 10% of words are _common words_, it follows that there will be a number of distinct words and phrases which capture the _\"gist\"_ of every category. For this idea to work, we are taking it as given our categories are  distinct enough for a semantic differentiation.\n",
    "\n",
    "For such datasets it appears unecessary to use a neural method, if all we truly want is to classify text.\n",
    "Taking this intuition further, the authors formulate two properties of compression algorithms, and how they can be exploited for text classification:\n",
    "\n",
    "1. compressors are good at capturing regularity\n",
    "2. objects from the same category share more regularity than those from different categories\n",
    "\n",
    "To this end they derive the _normalised compression distance_ from Bennet's information distance [see @681318] as follows:\n",
    "\n",
    "$$NCD(x, y) = \\frac{C(xy) - min\\{C(x), C(y)\\}}{max\\{C(x), C(y)\\}}$$\n",
    "\n",
    "As the normalised compression distance is tractable, we can compute the distance matrix for a given dataset in $\\mathcal{O}(n^2)$. This is mathematically elegant and simple, albeit not computationally efficient (it could be improved by employing caching on the compressor).\n",
    "\n",
    "## Reproduction\n",
    "\n",
    "The authors made reproduction easy for us because they kindly added a Python implementation. For the sake of this blogpost I adjusted the code and divided into [computation](distances.py) and analysis  step respectively. To reproduce the paper I decided to use the [20newsgroups](https://scikit-learn.org/stable/modules/generated/sklearn.datasets.fetch_20newsgroups.html#sklearn.datasets.fetch_20newsgroups) dataset also present in the paper. This is mainly for four reasons:\n",
    "\n",
    "- it is available out of the box via `scikit-learn` which is convenient\n",
    "- it is well-known and established benchmark dataset on a variety of tasks\n",
    "- `20newsgroups` is a low-resource dataset (which is hard to begin with)\n",
    "- the size of the dataset makes it feasible for me to compute on my local machine without much hassle\n",
    "\n",
    "The first step after computation is evaluation, so we'll jump to that:"
   ]
  },
  {
   "cell_type": "code",
   "execution_count": 1,
   "id": "cb87d674-39ba-4a71-9c96-7e68626da6c1",
   "metadata": {},
   "outputs": [
    {
     "data": {
      "text/html": [
       "<table border=\"1\" class=\"dataframe\">\n",
       "  <thead>\n",
       "    <tr style=\"text-align: right;\">\n",
       "      <th></th>\n",
       "      <th>alt.atheism</th>\n",
       "      <th>comp.graphics</th>\n",
       "      <th>comp.os.ms-windows.misc</th>\n",
       "      <th>comp.sys.ibm.pc.hardware</th>\n",
       "      <th>comp.sys.mac.hardware</th>\n",
       "      <th>comp.windows.x</th>\n",
       "      <th>misc.forsale</th>\n",
       "      <th>rec.autos</th>\n",
       "      <th>rec.motorcycles</th>\n",
       "      <th>rec.sport.baseball</th>\n",
       "      <th>rec.sport.hockey</th>\n",
       "      <th>sci.crypt</th>\n",
       "      <th>sci.electronics</th>\n",
       "      <th>sci.med</th>\n",
       "      <th>sci.space</th>\n",
       "      <th>soc.religion.christian</th>\n",
       "      <th>talk.politics.guns</th>\n",
       "      <th>talk.politics.mideast</th>\n",
       "      <th>talk.politics.misc</th>\n",
       "      <th>talk.religion.misc</th>\n",
       "      <th>accuracy</th>\n",
       "      <th>macro avg</th>\n",
       "      <th>weighted avg</th>\n",
       "    </tr>\n",
       "  </thead>\n",
       "  <tbody>\n",
       "    <tr>\n",
       "      <th>precision</th>\n",
       "      <td>0.561404</td>\n",
       "      <td>0.313002</td>\n",
       "      <td>0.363071</td>\n",
       "      <td>0.338809</td>\n",
       "      <td>0.441860</td>\n",
       "      <td>0.612335</td>\n",
       "      <td>0.699552</td>\n",
       "      <td>0.835294</td>\n",
       "      <td>0.595782</td>\n",
       "      <td>0.506986</td>\n",
       "      <td>0.665049</td>\n",
       "      <td>0.633110</td>\n",
       "      <td>0.476190</td>\n",
       "      <td>0.630631</td>\n",
       "      <td>0.791667</td>\n",
       "      <td>0.945017</td>\n",
       "      <td>0.537313</td>\n",
       "      <td>0.706329</td>\n",
       "      <td>0.621622</td>\n",
       "      <td>0.559471</td>\n",
       "      <td>0.559081</td>\n",
       "      <td>0.591725</td>\n",
       "      <td>0.592931</td>\n",
       "    </tr>\n",
       "    <tr>\n",
       "      <th>recall</th>\n",
       "      <td>0.802508</td>\n",
       "      <td>0.501285</td>\n",
       "      <td>0.444162</td>\n",
       "      <td>0.420918</td>\n",
       "      <td>0.394805</td>\n",
       "      <td>0.351899</td>\n",
       "      <td>0.400000</td>\n",
       "      <td>0.358586</td>\n",
       "      <td>0.851759</td>\n",
       "      <td>0.639798</td>\n",
       "      <td>0.686717</td>\n",
       "      <td>0.714646</td>\n",
       "      <td>0.407125</td>\n",
       "      <td>0.353535</td>\n",
       "      <td>0.578680</td>\n",
       "      <td>0.690955</td>\n",
       "      <td>0.791209</td>\n",
       "      <td>0.742021</td>\n",
       "      <td>0.593548</td>\n",
       "      <td>0.505976</td>\n",
       "      <td>0.559081</td>\n",
       "      <td>0.561507</td>\n",
       "      <td>0.559081</td>\n",
       "    </tr>\n",
       "    <tr>\n",
       "      <th>f1-score</th>\n",
       "      <td>0.660645</td>\n",
       "      <td>0.385375</td>\n",
       "      <td>0.399543</td>\n",
       "      <td>0.375427</td>\n",
       "      <td>0.417010</td>\n",
       "      <td>0.446945</td>\n",
       "      <td>0.508972</td>\n",
       "      <td>0.501767</td>\n",
       "      <td>0.701138</td>\n",
       "      <td>0.565702</td>\n",
       "      <td>0.675709</td>\n",
       "      <td>0.671412</td>\n",
       "      <td>0.438957</td>\n",
       "      <td>0.453074</td>\n",
       "      <td>0.668622</td>\n",
       "      <td>0.798258</td>\n",
       "      <td>0.640000</td>\n",
       "      <td>0.723735</td>\n",
       "      <td>0.607261</td>\n",
       "      <td>0.531381</td>\n",
       "      <td>0.559081</td>\n",
       "      <td>0.558547</td>\n",
       "      <td>0.557414</td>\n",
       "    </tr>\n",
       "    <tr>\n",
       "      <th>support</th>\n",
       "      <td>319.000000</td>\n",
       "      <td>389.000000</td>\n",
       "      <td>394.000000</td>\n",
       "      <td>392.000000</td>\n",
       "      <td>385.000000</td>\n",
       "      <td>395.000000</td>\n",
       "      <td>390.000000</td>\n",
       "      <td>396.000000</td>\n",
       "      <td>398.000000</td>\n",
       "      <td>397.000000</td>\n",
       "      <td>399.000000</td>\n",
       "      <td>396.000000</td>\n",
       "      <td>393.000000</td>\n",
       "      <td>396.000000</td>\n",
       "      <td>394.000000</td>\n",
       "      <td>398.000000</td>\n",
       "      <td>364.000000</td>\n",
       "      <td>376.000000</td>\n",
       "      <td>310.000000</td>\n",
       "      <td>251.000000</td>\n",
       "      <td>0.559081</td>\n",
       "      <td>7532.000000</td>\n",
       "      <td>7532.000000</td>\n",
       "    </tr>\n",
       "  </tbody>\n",
       "</table>"
      ],
      "text/plain": [
       "<IPython.core.display.HTML object>"
      ]
     },
     "metadata": {},
     "output_type": "display_data"
    }
   ],
   "source": [
    "#| label: tbl-ncd-reproduction\n",
    "#| tbl-cap: Classification report for normalised compressed distances on the 20newsgroups dataset\n",
    "\n",
    "from IPython.display import display, HTML\n",
    "from sklearn.datasets import fetch_20newsgroups\n",
    "from sklearn.metrics import classification_report\n",
    "import numpy as np\n",
    "import seaborn as sns\n",
    "import matplotlib.pyplot as plt\n",
    "import pandas as pd\n",
    "\n",
    "dataset_train = fetch_20newsgroups(subset='train', random_state=123)\n",
    "dataset_test = fetch_20newsgroups(subset='test', random_state=123)\n",
    "\n",
    "compressed_train_set = np.load(\"20newsgroups.train.npy\")\n",
    "compressed_test_set = np.load(\"20newsgroups.test.npy\")\n",
    "ncd = np.load(\"20newsgroups.ncd.npy\")\n",
    "\n",
    "k = 2\n",
    "\n",
    "y_pred = []\n",
    "\n",
    "for index in range(len(ncd)):\n",
    "    sorted_idx = np.argsort(ncd[index, :])\n",
    "    top_k_class = dataset_train[\"target\"][sorted_idx[:k]].tolist()\n",
    "    predict_class = max(set(top_k_class), key=top_k_class.count)\n",
    "    y_pred.append(predict_class)\n",
    "\n",
    "ncd_report_df = pd.DataFrame(classification_report(dataset_test[\"target\"], y_pred, target_names=dataset_test[\"target_names\"], output_dict=True))\n",
    "display(HTML(ncd_report_df.to_html()))"
   ]
  },
  {
   "cell_type": "markdown",
   "id": "1d213453-ed59-4442-88cf-6b531bc9bf8a",
   "metadata": {},
   "source": [
    "At `0.59` weighted average precision the algorithm significantly underperforms compared to the paper (reported with `0.685`). However, such artefacts are not uncommon, and there are a variety of factors (such as the operating system) which can affect compression. The results are in the same ballpark, and `0.59` precision is still fairly decent, given this is a pure computational approach to classifying 20 categories.\n",
    "\n",
    "#### mode knn vs weighted\n",
    "\n",
    "The default implementation of the paper uses `mode` to assign the class with the highest probability. This is odd in two ways.\n",
    "\n",
    "Firstly it obscures the benchmark (why use a non-standard behaviour?). Secondly,it probably makes the benchmark harder, because often the weighted knn outperforms `mode`.\n",
    "\n",
    "## Inspecting the normalised compression distance\n",
    "\n",
    "Since the authors claim their distance is a normalised distribution one would like to make sure this claim is correct. Typically a plot helps."
   ]
  },
  {
   "cell_type": "code",
   "execution_count": 2,
   "id": "1350ccde-6cbe-4171-89bb-f1dce82b4437",
   "metadata": {},
   "outputs": [
    {
     "data": {
      "image/png": "[encoded data removed]",
      "text/plain": [
       "<Figure size 640x480 with 1 Axes>"
      ]
     },
     "metadata": {},
     "output_type": "display_data"
    }
   ],
   "source": [
    "#| label: fig-ncd-histogram\n",
    "#| fig-cap: \"A histogram of normalised count distances\"\n",
    "\n",
    "idx = np.random.randint(len(ncd), size=1000)\n",
    "sample = ncd[idx, :].flatten().tolist()\n",
    "fig, ax = plt.subplots()\n",
    "sns.histplot(sample, ax=ax)\n",
    "plt.show()"
   ]
  },
  {
   "cell_type": "markdown",
   "id": "c08c14b4-22ac-4bab-b5f1-773a1460dcef",
   "metadata": {},
   "source": [
    "It appears their claim is correct, but `normaltest` can help us eliminate any remaining doubts. "
   ]
  },
  {
   "cell_type": "code",
   "execution_count": 3,
   "id": "952dfe04-fd57-4995-bd1a-b6f154a50c15",
   "metadata": {},
   "outputs": [
    {
     "data": {
      "text/html": [
       "<table border=\"1\" class=\"dataframe\">\n",
       "  <thead>\n",
       "    <tr style=\"text-align: right;\">\n",
       "      <th>statistic</th>\n",
       "      <th>pvalue</th>\n",
       "    </tr>\n",
       "  </thead>\n",
       "  <tbody>\n",
       "    <tr>\n",
       "      <td>767182.369619</td>\n",
       "      <td>0.0</td>\n",
       "    </tr>\n",
       "  </tbody>\n",
       "</table>"
      ],
      "text/plain": [
       "<IPython.core.display.HTML object>"
      ]
     },
     "metadata": {},
     "output_type": "display_data"
    }
   ],
   "source": [
    "#| label: tbl-normaltest\n",
    "#| tbl-cap: Normaltest result for normalised compressed distance matrix\n",
    "from scipy import stats\n",
    "\n",
    "res = stats.normaltest(sample)\n",
    "ncd_normaltest_df = pd.DataFrame([[res.statistic.tolist(), res.pvalue.tolist()]], columns=[\"statistic\", \"pvalue\"])\n",
    "display(HTML(ncd_normaltest_df.to_html(index=False)))"
   ]
  },
  {
   "cell_type": "markdown",
   "id": "3f42ab67-9431-461c-98e8-ad059d0ef395",
   "metadata": {},
   "source": [
    "Beyond doubt the _NCD_ is of a normal distribution. Our next step is inspecting the input data from which the _NCD_ is derived."
   ]
  },
  {
   "cell_type": "code",
   "execution_count": 4,
   "id": "1cc3fd9c-da21-4170-b6ee-bd28fdcbf441",
   "metadata": {},
   "outputs": [
    {
     "name": "stderr",
     "output_type": "stream",
     "text": [
      "/var/folders/k6/hdzmrkf915d0twbr_qmhy9l00000gn/T/ipykernel_69344/1604665436.py:8: MatplotlibDeprecationWarning: Auto-removal of overlapping axes is deprecated since 3.6 and will be removed two minor releases later; explicitly call ax.remove() as needed.\n",
      "  ax1 = plt.subplot(grid[0, 0])\n",
      "/var/folders/k6/hdzmrkf915d0twbr_qmhy9l00000gn/T/ipykernel_69344/1604665436.py:9: MatplotlibDeprecationWarning: Auto-removal of overlapping axes is deprecated since 3.6 and will be removed two minor releases later; explicitly call ax.remove() as needed.\n",
      "  ax2 = plt.subplot(grid[0, 1:])\n"
     ]
    },
    {
     "data": {
      "image/png": "[encoded data removed]",
      "text/plain": [
       "<Figure size 1100x700 with 4 Axes>"
      ]
     },
     "metadata": {},
     "output_type": "display_data"
    }
   ],
   "source": [
    "#| label: fig-compressed-length-vs-text-length\n",
    "#| fig-cap: \"Histograms of training and test lengths (un)compressed\"\n",
    "\n",
    "fig, (ax1, ax2, ax3, ax4) = plt.subplots(nrows=1, ncols=4,figsize=(11, 7))\n",
    "\n",
    "grid = plt.GridSpec(2, 2, wspace=0.2, hspace=0.3)\n",
    "\n",
    "ax1 = plt.subplot(grid[0, 0])\n",
    "ax2 = plt.subplot(grid[0, 1:])\n",
    "ax3 = plt.subplot(grid[1, :1])\n",
    "ax4 = plt.subplot(grid[1, 1:])\n",
    "\n",
    "sns.histplot(compressed_train_set, log_scale=True, ax=ax1)\n",
    "sns.histplot(compressed_test_set, log_scale=True, ax=ax2)\n",
    "sns.histplot([len(x2) for x2 in dataset_train[\"data\"]], log_scale=True, ax=ax3)\n",
    "sns.histplot([len(x1) for x1 in dataset_test[\"data\"]], log_scale=True, ax=ax4)\n",
    "\n",
    "ax1.title.set_text(\"compressed training length\")\n",
    "ax2.title.set_text(\"compressed test length\")\n",
    "ax3.title.set_text(\"training text length\")\n",
    "ax4.title.set_text(\"test text length\")\n",
    "\n",
    "plt.show()"
   ]
  },
  {
   "cell_type": "markdown",
   "id": "9f0c0be5-8c53-4305-9d55-d77701617ba1",
   "metadata": {},
   "source": [
    "This finding may not be a surprise to everyone, but it is __highly__ interesting. If the _NCD_ is derived from the compressed length, and the text length is of the identical distribution as the compressed length, we should be able to simplify this model.\n",
    "\n",
    "## Encoding linguistic knowledge into our model\n",
    "\n",
    "Few things will sour linguists as much as researchers trying to build models (and algorithms), deliberately ignoring domain knowledge. In this sense, let's help with some insights from the linguistics department.\n",
    "\n",
    "If the text length and compressed length are of the same distribution, the standard approach is to use a bag-of-word model. We could (computationally) simplify the NCD significantly. To do so:\n",
    "\n",
    "1. build a simple `CountVectorizer` model\n",
    "2. create a count matrix for the training and test data set\n",
    "3. calculate the normalised count distance\n",
    "4. reevaluate\n",
    "\n",
    "Just as with the original paper, it is possible to split the code into [computation](distances_count.py) and analysis.\n",
    "Using the computed count matrix, first we evaluate wether the count matrix and the original NCD are indeed of the same distribution."
   ]
  },
  {
   "cell_type": "code",
   "execution_count": 5,
   "id": "d880a065-895f-4bfe-92d0-dc5bb1c3851e",
   "metadata": {},
   "outputs": [
    {
     "data": {
      "image/png": "[encoded data removed]",
      "text/plain": [
       "<Figure size 640x480 with 1 Axes>"
      ]
     },
     "metadata": {},
     "output_type": "display_data"
    }
   ],
   "source": [
    "#| label: fig-histogram-count-matrix\n",
    "#| fig-cap: \"Histogram of normalised count distance\"\n",
    "\n",
    "count_matrix = np.load(\"20newsgroups.count_distances.npy\")\n",
    "idx_count = np.random.randint(len(count_matrix), size=1000)\n",
    "sample_count = count_matrix[idx_count, :].flatten().tolist()\n",
    "\n",
    "fig, ax = plt.subplots()\n",
    "sns.histplot(sample_count, ax=ax)\n",
    "plt.show()"
   ]
  },
  {
   "cell_type": "markdown",
   "id": "4e24d051-05f1-4054-be66-a2c0de646bf3",
   "metadata": {},
   "source": [
    "Our intuition is spot on. This distribution plot is **very** similar to the one of the original NCD, to say the least. A [mood test](https://docs.scipy.org/doc/scipy/reference/generated/scipy.stats.mood.html) can help us determine if the scales are indeed identical."
   ]
  },
  {
   "cell_type": "code",
   "execution_count": 6,
   "id": "06496f76-e97b-47a6-a59d-ec744bfd5818",
   "metadata": {},
   "outputs": [
    {
     "data": {
      "text/html": [
       "<table border=\"1\" class=\"dataframe\">\n",
       "  <thead>\n",
       "    <tr style=\"text-align: right;\">\n",
       "      <th>statistic</th>\n",
       "      <th>pvalue</th>\n",
       "    </tr>\n",
       "  </thead>\n",
       "  <tbody>\n",
       "    <tr>\n",
       "      <td>387.040639</td>\n",
       "      <td>0.0</td>\n",
       "    </tr>\n",
       "  </tbody>\n",
       "</table>"
      ],
      "text/plain": [
       "<IPython.core.display.HTML object>"
      ]
     },
     "metadata": {},
     "output_type": "display_data"
    }
   ],
   "source": [
    "#| label: tbl-mood-test\n",
    "#| tbl-cap: Mood test result for normalised compressed distance matrix and normalised count distance matrix\n",
    "\n",
    "res = stats.mood(sample, sample_count)\n",
    "ncd_mood_test_df = pd.DataFrame([[res.statistic.tolist(), res.pvalue.tolist()]], columns=[\"statistic\", \"pvalue\"])\n",
    "display(HTML(ncd_mood_test_df.to_html(index=False)))"
   ]
  },
  {
   "cell_type": "markdown",
   "id": "5175fdf7-f6da-487d-a97b-3ddd59c93bb4",
   "metadata": {},
   "source": [
    "Now that we can produce equivalent _NCD_ values from counts, we can reevaluate the original model."
   ]
  },
  {
   "cell_type": "code",
   "execution_count": 7,
   "id": "bb015c29-7856-4265-b098-7c3584c8826e",
   "metadata": {},
   "outputs": [
    {
     "data": {
      "text/html": [
       "<table border=\"1\" class=\"dataframe\">\n",
       "  <thead>\n",
       "    <tr style=\"text-align: right;\">\n",
       "      <th></th>\n",
       "      <th>alt.atheism</th>\n",
       "      <th>comp.graphics</th>\n",
       "      <th>comp.os.ms-windows.misc</th>\n",
       "      <th>comp.sys.ibm.pc.hardware</th>\n",
       "      <th>comp.sys.mac.hardware</th>\n",
       "      <th>comp.windows.x</th>\n",
       "      <th>misc.forsale</th>\n",
       "      <th>rec.autos</th>\n",
       "      <th>rec.motorcycles</th>\n",
       "      <th>rec.sport.baseball</th>\n",
       "      <th>rec.sport.hockey</th>\n",
       "      <th>sci.crypt</th>\n",
       "      <th>sci.electronics</th>\n",
       "      <th>sci.med</th>\n",
       "      <th>sci.space</th>\n",
       "      <th>soc.religion.christian</th>\n",
       "      <th>talk.politics.guns</th>\n",
       "      <th>talk.politics.mideast</th>\n",
       "      <th>talk.politics.misc</th>\n",
       "      <th>talk.religion.misc</th>\n",
       "      <th>accuracy</th>\n",
       "      <th>macro avg</th>\n",
       "      <th>weighted avg</th>\n",
       "    </tr>\n",
       "  </thead>\n",
       "  <tbody>\n",
       "    <tr>\n",
       "      <th>precision</th>\n",
       "      <td>0.408621</td>\n",
       "      <td>0.323248</td>\n",
       "      <td>0.363265</td>\n",
       "      <td>0.392202</td>\n",
       "      <td>0.418301</td>\n",
       "      <td>0.597633</td>\n",
       "      <td>0.796117</td>\n",
       "      <td>0.788462</td>\n",
       "      <td>0.497703</td>\n",
       "      <td>0.443015</td>\n",
       "      <td>0.626289</td>\n",
       "      <td>0.567227</td>\n",
       "      <td>0.390476</td>\n",
       "      <td>0.601852</td>\n",
       "      <td>0.807692</td>\n",
       "      <td>0.871795</td>\n",
       "      <td>0.462057</td>\n",
       "      <td>0.680217</td>\n",
       "      <td>0.546468</td>\n",
       "      <td>0.403704</td>\n",
       "      <td>0.505975</td>\n",
       "      <td>0.549317</td>\n",
       "      <td>0.554029</td>\n",
       "    </tr>\n",
       "    <tr>\n",
       "      <th>recall</th>\n",
       "      <td>0.742947</td>\n",
       "      <td>0.521851</td>\n",
       "      <td>0.451777</td>\n",
       "      <td>0.436224</td>\n",
       "      <td>0.332468</td>\n",
       "      <td>0.255696</td>\n",
       "      <td>0.420513</td>\n",
       "      <td>0.310606</td>\n",
       "      <td>0.816583</td>\n",
       "      <td>0.607053</td>\n",
       "      <td>0.609023</td>\n",
       "      <td>0.681818</td>\n",
       "      <td>0.312977</td>\n",
       "      <td>0.328283</td>\n",
       "      <td>0.479695</td>\n",
       "      <td>0.512563</td>\n",
       "      <td>0.752747</td>\n",
       "      <td>0.667553</td>\n",
       "      <td>0.474194</td>\n",
       "      <td>0.434263</td>\n",
       "      <td>0.505975</td>\n",
       "      <td>0.507442</td>\n",
       "      <td>0.505975</td>\n",
       "    </tr>\n",
       "    <tr>\n",
       "      <th>f1-score</th>\n",
       "      <td>0.527253</td>\n",
       "      <td>0.399213</td>\n",
       "      <td>0.402715</td>\n",
       "      <td>0.413043</td>\n",
       "      <td>0.370478</td>\n",
       "      <td>0.358156</td>\n",
       "      <td>0.550336</td>\n",
       "      <td>0.445652</td>\n",
       "      <td>0.618459</td>\n",
       "      <td>0.512221</td>\n",
       "      <td>0.617535</td>\n",
       "      <td>0.619266</td>\n",
       "      <td>0.347458</td>\n",
       "      <td>0.424837</td>\n",
       "      <td>0.601911</td>\n",
       "      <td>0.645570</td>\n",
       "      <td>0.572623</td>\n",
       "      <td>0.673826</td>\n",
       "      <td>0.507772</td>\n",
       "      <td>0.418426</td>\n",
       "      <td>0.505975</td>\n",
       "      <td>0.501337</td>\n",
       "      <td>0.502325</td>\n",
       "    </tr>\n",
       "    <tr>\n",
       "      <th>support</th>\n",
       "      <td>319.000000</td>\n",
       "      <td>389.000000</td>\n",
       "      <td>394.000000</td>\n",
       "      <td>392.000000</td>\n",
       "      <td>385.000000</td>\n",
       "      <td>395.000000</td>\n",
       "      <td>390.000000</td>\n",
       "      <td>396.000000</td>\n",
       "      <td>398.000000</td>\n",
       "      <td>397.000000</td>\n",
       "      <td>399.000000</td>\n",
       "      <td>396.000000</td>\n",
       "      <td>393.000000</td>\n",
       "      <td>396.000000</td>\n",
       "      <td>394.000000</td>\n",
       "      <td>398.000000</td>\n",
       "      <td>364.000000</td>\n",
       "      <td>376.000000</td>\n",
       "      <td>310.000000</td>\n",
       "      <td>251.000000</td>\n",
       "      <td>0.505975</td>\n",
       "      <td>7532.000000</td>\n",
       "      <td>7532.000000</td>\n",
       "    </tr>\n",
       "  </tbody>\n",
       "</table>"
      ],
      "text/plain": [
       "<IPython.core.display.HTML object>"
      ]
     },
     "metadata": {},
     "output_type": "display_data"
    }
   ],
   "source": [
    "#| label: tbl-count-report\n",
    "#| tbl-cap: Classification report for normalised count distances on the 20newsgroups dataset\n",
    "y_count_pred = []\n",
    "\n",
    "for index in range(len(ncd)):\n",
    "    sorted_idx = np.argsort(count_matrix[index, :])\n",
    "    top_k_class = dataset_train[\"target\"][sorted_idx[:k]].tolist()\n",
    "    predict_class = max(set(top_k_class), key=top_k_class.count)\n",
    "    y_count_pred.append(predict_class)\n",
    "\n",
    "count_report_df = pd.DataFrame(classification_report(dataset_test[\"target\"], y_count_pred, target_names=dataset_test[\"target_names\"], output_dict=True))\n",
    "display(HTML(count_report_df.to_html()))"
   ]
  },
  {
   "cell_type": "markdown",
   "id": "26e0b51c-fd89-4e8b-a092-4e9aa34d7586",
   "metadata": {},
   "source": [
    "With `0.55` weighted average precision we lost 4 points to the original NCD. Interestingly, the recall values for individual categories are _very_ similar.\n",
    "\n",
    "## Interim result\n",
    "\n",
    "We can build an approximately similar model to _NCD_ using `CountVectorizer`. However, our linguistic model has a few distinct advantages:\n",
    "\n",
    "1. It is extremely fast (_NCD_ is computed in ~30 minutes on 8 threads, counts are computed in 5 minutes with 1 thread)\n",
    "2. `CountVectorizer` can generalise better to unseen data because of the Zipfian law\n",
    "3. We have yet to start with other domain tricks such as preprocessing, which will boost the result\n",
    "\n",
    "That's fair enough, you say, but simply building out a model is not sufficient. \n",
    "\n",
    "One of the major points the authors of the gzip paper emphasize is _explainability_. While explainability in neural architectures is tricky at best, the _NCD_ is only _mathematically_ explainable. For us mere humans, we still don't know what this model actually encodes. That's where `CountVectorizer` can come to our rescue.\n",
    "\n",
    "## What's our KNN actually predicting?\n",
    "\n",
    "Turning back to the authors original idea, we can speculate that:\n",
    "\n",
    "1. The most common words will be stripped by compression\n",
    "2. There are low-frequency words associated with the different categories\n",
    "\n",
    "To prove this, we can inspect the count vectorizer. First, we will take a look at the token distribution:"
   ]
  },
  {
   "cell_type": "code",
   "execution_count": 8,
   "id": "5314c989-1ff3-4f01-966b-56909aebd00b",
   "metadata": {},
   "outputs": [
    {
     "data": {
      "image/png": "[encoded data removed]",
      "text/plain": [
       "<Figure size 640x480 with 1 Axes>"
      ]
     },
     "metadata": {},
     "output_type": "display_data"
    }
   ],
   "source": [
    "#| label: fig-histogram-token-frequency\n",
    "#| fig-cap: \"Histogram of token counts in 20newsgroup dataset\"\n",
    "\n",
    "from collections import Counter\n",
    "from sklearn.feature_extraction.text import CountVectorizer\n",
    "\n",
    "vectorizer = CountVectorizer()\n",
    "train_dataset_count = vectorizer.fit_transform(dataset_train[\"data\"])\n",
    "test_dataset_count = vectorizer.transform(dataset_test[\"data\"])\n",
    "\n",
    "# nonzero indexes represents where data is actually stored\n",
    "index_counter = Counter(train_dataset_count.nonzero()[1].tolist() + test_dataset_count.nonzero()[1].tolist())\n",
    "\n",
    "fig, ax = plt.subplots()\n",
    "sns.lineplot([count for idx, count in index_counter.most_common()], ax=ax)\n",
    "plt.show()"
   ]
  },
  {
   "cell_type": "markdown",
   "id": "d4fdd01e-af76-4180-aff5-0ec023ab8e7a",
   "metadata": {},
   "source": [
    "Yep, that's a Zipfian distribution! If we discard the most common terms from this dataset, we can try and correlate it with our categories. To do so, we run the spearman correlation between the categories and the decomposition of the remaining matrix."
   ]
  },
  {
   "cell_type": "code",
   "execution_count": 9,
   "id": "cbbc79ee-4235-47e2-a0cb-d2f2121d1fe5",
   "metadata": {},
   "outputs": [
    {
     "data": {
      "text/html": [
       "<table border=\"1\" class=\"dataframe\">\n",
       "  <thead>\n",
       "    <tr style=\"text-align: right;\">\n",
       "      <th>statistic</th>\n",
       "      <th>pvalue</th>\n",
       "    </tr>\n",
       "  </thead>\n",
       "  <tbody>\n",
       "    <tr>\n",
       "      <td>0.264924</td>\n",
       "      <td>5.053535e-181</td>\n",
       "    </tr>\n",
       "  </tbody>\n",
       "</table>"
      ],
      "text/plain": [
       "<IPython.core.display.HTML object>"
      ]
     },
     "metadata": {},
     "output_type": "display_data"
    }
   ],
   "source": [
    "#| label: tbl-decomposition-correlation\n",
    "#| tbl-cap: Spearman correlation coefficient for 1-D decomposition of the 20newsgroups dataset\n",
    "\n",
    "from sklearn.decomposition import TruncatedSVD\n",
    "offset = 10000\n",
    "svd = TruncatedSVD(n_components=1, random_state=123)\n",
    "X_embedded = svd.fit_transform(train_dataset_count[:, offset:])\n",
    "res = stats.spearmanr(X_embedded, dataset_train[\"target\"])\n",
    "\n",
    "decomp_cor_df = pd.DataFrame([[res.statistic.tolist(), res.pvalue.tolist()]], columns=[\"statistic\", \"pvalue\"])\n",
    "display(HTML(decomp_cor_df.to_html(index=False)))"
   ]
  },
  {
   "cell_type": "markdown",
   "id": "249f36cc-7884-43bc-a166-06ec01076e45",
   "metadata": {},
   "source": [
    "Would you look at this. A slight positive correlation with significance! With this knowledge at hand, we can note down how _NCD_ works.\n",
    "\n",
    "If there are sufficient uncommon words per category, _NCD_ boosts the likelihood per category by maximising infrequent terms.\n",
    "\n",
    "This approach may fall flat if categories consist of very similar words (such as is the case in humour detection).\n",
    "\n",
    "## Closing remarks\n",
    "\n",
    "Recently there has been a strong trend with the sentiment: _\"neural architectures solves everything\"_. In the light of this, I find it admirable to seek ways to efficiently model simple problems.\n",
    "\n",
    "However, there is a decent amount of evidence showing that neural architectures are not the sole source of improvements in the field of NLP. \n",
    "Preprocessing is of particular importance to all kinds of models, notwithstanding neural architectures [see @levy-etal-2015-improving]. \n",
    "\n",
    "In this regard the _gzip paper_ falls short. Preprocessing isn't a tiresome step of modelling, it is actually our single best friend to combat sparseness."
   ]
  },
  {
   "cell_type": "code",
   "execution_count": null,
   "id": "17070bdc-ae8a-4d03-a76e-c009c02a547f",
   "metadata": {},
   "outputs": [],
   "source": []
  }
 ],
 "metadata": {
  "kernelspec": {
   "display_name": "Python 3 (ipykernel)",
   "language": "python",
   "name": "python3"
  },
  "language_info": {
   "codemirror_mode": {
    "name": "ipython",
    "version": 3
   },
   "file_extension": ".py",
   "mimetype": "text/x-python",
   "name": "python",
   "nbconvert_exporter": "python",
   "pygments_lexer": "ipython3",
   "version": "3.11.5"
  }
 },
 "nbformat": 4,
 "nbformat_minor": 5
}
